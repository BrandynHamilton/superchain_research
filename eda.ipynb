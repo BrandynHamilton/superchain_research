{
 "cells": [
  {
   "cell_type": "markdown",
   "metadata": {},
   "source": [
    "# Imports"
   ]
  },
  {
   "cell_type": "code",
   "execution_count": 113,
   "metadata": {},
   "outputs": [],
   "source": [
    "import pandas as pd\n",
    "import requests\n",
    "import numpy as np\n",
    "import os \n",
    "from dotenv import load_dotenv\n",
    "from dune_client.client import DuneClient\n",
    "import random\n",
    "\n",
    "from sklearn.linear_model import LogisticRegression"
   ]
  },
  {
   "cell_type": "code",
   "execution_count": 114,
   "metadata": {},
   "outputs": [
    {
     "data": {
      "text/plain": [
       "True"
      ]
     },
     "execution_count": 114,
     "metadata": {},
     "output_type": "execute_result"
    }
   ],
   "source": [
    "load_dotenv()"
   ]
  },
  {
   "cell_type": "code",
   "execution_count": 115,
   "metadata": {},
   "outputs": [],
   "source": [
    "pd.options.display.float_format = '{:,.5f}'.format"
   ]
  },
  {
   "cell_type": "code",
   "execution_count": 116,
   "metadata": {},
   "outputs": [],
   "source": [
    "def set_random_seed(seed):\n",
    "    random.seed(seed)\n",
    "    np.random.seed(seed)"
   ]
  },
  {
   "cell_type": "code",
   "execution_count": 117,
   "metadata": {},
   "outputs": [],
   "source": [
    "seed = 20\n",
    "set_random_seed(20)"
   ]
  },
  {
   "cell_type": "markdown",
   "metadata": {},
   "source": [
    "# Pulling Data"
   ]
  },
  {
   "cell_type": "code",
   "execution_count": 118,
   "metadata": {},
   "outputs": [],
   "source": [
    "api_key_dune = os.getenv(\"dune_key\")\n",
    "dune = DuneClient(api_key_dune)"
   ]
  },
  {
   "cell_type": "code",
   "execution_count": 119,
   "metadata": {},
   "outputs": [],
   "source": [
    "def fetch_dune_data(num):\n",
    "    result = dune.get_latest_result_dataframe(num)\n",
    "    return result"
   ]
  },
  {
   "cell_type": "markdown",
   "metadata": {},
   "source": [
    "top_voters_df = fetch_dune_data(4014335)\n",
    "top_voters_df.to_csv('top_voters.csv', index=False)\n"
   ]
  },
  {
   "cell_type": "code",
   "execution_count": 120,
   "metadata": {},
   "outputs": [],
   "source": [
    "top_voters_df = pd.read_csv('top_voters.csv')\n",
    "top_voters_df.drop(columns=['first_vote','latest_vote'], inplace=True)"
   ]
  },
  {
   "cell_type": "markdown",
   "metadata": {},
   "source": [
    "gen_voters_df = fetch_dune_data(4014573)\n",
    "gen_voters_df.to_csv('gen_voters.csv', index=False)"
   ]
  },
  {
   "cell_type": "markdown",
   "metadata": {},
   "source": [
    "proposal_df = fetch_dune_data(4023380)\n",
    "proposal_df.to_csv('proposal_df.csv', index=False)"
   ]
  },
  {
   "cell_type": "code",
   "execution_count": 121,
   "metadata": {},
   "outputs": [
    {
     "data": {
      "text/html": [
       "<div>\n",
       "<style scoped>\n",
       "    .dataframe tbody tr th:only-of-type {\n",
       "        vertical-align: middle;\n",
       "    }\n",
       "\n",
       "    .dataframe tbody tr th {\n",
       "        vertical-align: top;\n",
       "    }\n",
       "\n",
       "    .dataframe thead th {\n",
       "        text-align: right;\n",
       "    }\n",
       "</style>\n",
       "<table border=\"1\" class=\"dataframe\">\n",
       "  <thead>\n",
       "    <tr style=\"text-align: right;\">\n",
       "      <th></th>\n",
       "      <th>voter</th>\n",
       "      <th>num_proposals</th>\n",
       "    </tr>\n",
       "  </thead>\n",
       "  <tbody>\n",
       "    <tr>\n",
       "      <th>0</th>\n",
       "      <td>0xdcf7be2ff93e1a7671724598b1526f3a33b1ec25</td>\n",
       "      <td>42</td>\n",
       "    </tr>\n",
       "    <tr>\n",
       "      <th>1</th>\n",
       "      <td>0xb03e094e643a50e145e804b35787c28292e6afe4</td>\n",
       "      <td>10</td>\n",
       "    </tr>\n",
       "    <tr>\n",
       "      <th>2</th>\n",
       "      <td>0xb49c54edfe1cfe5ac83e74b179474f6224d0763f</td>\n",
       "      <td>2</td>\n",
       "    </tr>\n",
       "    <tr>\n",
       "      <th>3</th>\n",
       "      <td>0x1b6f3e48c7d235293f59b14d4c0a1ccba55411b4</td>\n",
       "      <td>2</td>\n",
       "    </tr>\n",
       "    <tr>\n",
       "      <th>4</th>\n",
       "      <td>0x87feed6162cb7dfe6b62f64366742349bf4d1b05</td>\n",
       "      <td>24</td>\n",
       "    </tr>\n",
       "  </tbody>\n",
       "</table>\n",
       "</div>"
      ],
      "text/plain": [
       "                                        voter  num_proposals\n",
       "0  0xdcf7be2ff93e1a7671724598b1526f3a33b1ec25             42\n",
       "1  0xb03e094e643a50e145e804b35787c28292e6afe4             10\n",
       "2  0xb49c54edfe1cfe5ac83e74b179474f6224d0763f              2\n",
       "3  0x1b6f3e48c7d235293f59b14d4c0a1ccba55411b4              2\n",
       "4  0x87feed6162cb7dfe6b62f64366742349bf4d1b05             24"
      ]
     },
     "execution_count": 121,
     "metadata": {},
     "output_type": "execute_result"
    }
   ],
   "source": [
    "proposal_df = pd.read_csv('proposal_df.csv')\n",
    "proposal_df.rename(columns={\"proposer\":\"voter\",\"proposals\":\"num_proposals\"}, inplace=True)\n",
    "proposal_df.head()"
   ]
  },
  {
   "cell_type": "markdown",
   "metadata": {},
   "source": [
    "vote_freq_df = fetch_dune_data(4026611)\n",
    "vote_freq_df.to_csv('vote_freq.csv', index=False)"
   ]
  },
  {
   "cell_type": "code",
   "execution_count": 122,
   "metadata": {},
   "outputs": [
    {
     "data": {
      "text/html": [
       "<div>\n",
       "<style scoped>\n",
       "    .dataframe tbody tr th:only-of-type {\n",
       "        vertical-align: middle;\n",
       "    }\n",
       "\n",
       "    .dataframe tbody tr th {\n",
       "        vertical-align: top;\n",
       "    }\n",
       "\n",
       "    .dataframe thead th {\n",
       "        text-align: right;\n",
       "    }\n",
       "</style>\n",
       "<table border=\"1\" class=\"dataframe\">\n",
       "  <thead>\n",
       "    <tr style=\"text-align: right;\">\n",
       "      <th></th>\n",
       "      <th>voter</th>\n",
       "      <th>avg_normalized_frequency</th>\n",
       "    </tr>\n",
       "  </thead>\n",
       "  <tbody>\n",
       "    <tr>\n",
       "      <th>0</th>\n",
       "      <td>0xa3286502910574d30a4ef7d8d2a8609febc5e81d</td>\n",
       "      <td>0.03279</td>\n",
       "    </tr>\n",
       "    <tr>\n",
       "      <th>1</th>\n",
       "      <td>0x4d999f16ec6fd46a84e3c2cd4a9a64dd314ae829</td>\n",
       "      <td>0.01644</td>\n",
       "    </tr>\n",
       "    <tr>\n",
       "      <th>2</th>\n",
       "      <td>0xafa8d6fc711a792591a587e1908595747aad5895</td>\n",
       "      <td>0.01643</td>\n",
       "    </tr>\n",
       "    <tr>\n",
       "      <th>3</th>\n",
       "      <td>0x4c8d122bf527c47a74831c95d8ea06dd097b4ed9</td>\n",
       "      <td>0.01640</td>\n",
       "    </tr>\n",
       "    <tr>\n",
       "      <th>4</th>\n",
       "      <td>0xce389023479e7c3966ab1fcb3a779800d9f6b152</td>\n",
       "      <td>0.01639</td>\n",
       "    </tr>\n",
       "    <tr>\n",
       "      <th>...</th>\n",
       "      <td>...</td>\n",
       "      <td>...</td>\n",
       "    </tr>\n",
       "    <tr>\n",
       "      <th>87602</th>\n",
       "      <td>0xb27c628b8a5b93fe86e8efa0871bb5d3830de4b6</td>\n",
       "      <td>0.00001</td>\n",
       "    </tr>\n",
       "    <tr>\n",
       "      <th>87603</th>\n",
       "      <td>0xe1b0b110300080f147d55c30a139ad093e068407</td>\n",
       "      <td>0.00001</td>\n",
       "    </tr>\n",
       "    <tr>\n",
       "      <th>87604</th>\n",
       "      <td>0x7e39a589b7eb31d00a050c98370272a1a897bc7b</td>\n",
       "      <td>0.00001</td>\n",
       "    </tr>\n",
       "    <tr>\n",
       "      <th>87605</th>\n",
       "      <td>0xe86daa08bbdb721029cd20cf925552bc1bb10521</td>\n",
       "      <td>0.00001</td>\n",
       "    </tr>\n",
       "    <tr>\n",
       "      <th>87606</th>\n",
       "      <td>0xb66434163b691fd82084879f84c641004189a33b</td>\n",
       "      <td>0.00001</td>\n",
       "    </tr>\n",
       "  </tbody>\n",
       "</table>\n",
       "<p>87607 rows × 2 columns</p>\n",
       "</div>"
      ],
      "text/plain": [
       "                                            voter  avg_normalized_frequency\n",
       "0      0xa3286502910574d30a4ef7d8d2a8609febc5e81d                   0.03279\n",
       "1      0x4d999f16ec6fd46a84e3c2cd4a9a64dd314ae829                   0.01644\n",
       "2      0xafa8d6fc711a792591a587e1908595747aad5895                   0.01643\n",
       "3      0x4c8d122bf527c47a74831c95d8ea06dd097b4ed9                   0.01640\n",
       "4      0xce389023479e7c3966ab1fcb3a779800d9f6b152                   0.01639\n",
       "...                                           ...                       ...\n",
       "87602  0xb27c628b8a5b93fe86e8efa0871bb5d3830de4b6                   0.00001\n",
       "87603  0xe1b0b110300080f147d55c30a139ad093e068407                   0.00001\n",
       "87604  0x7e39a589b7eb31d00a050c98370272a1a897bc7b                   0.00001\n",
       "87605  0xe86daa08bbdb721029cd20cf925552bc1bb10521                   0.00001\n",
       "87606  0xb66434163b691fd82084879f84c641004189a33b                   0.00001\n",
       "\n",
       "[87607 rows x 2 columns]"
      ]
     },
     "execution_count": 122,
     "metadata": {},
     "output_type": "execute_result"
    }
   ],
   "source": [
    "vote_freq_df = pd.read_csv('vote_freq.csv')\n",
    "vote_freq_df"
   ]
  },
  {
   "cell_type": "code",
   "execution_count": 123,
   "metadata": {},
   "outputs": [
    {
     "data": {
      "text/html": [
       "<div>\n",
       "<style scoped>\n",
       "    .dataframe tbody tr th:only-of-type {\n",
       "        vertical-align: middle;\n",
       "    }\n",
       "\n",
       "    .dataframe tbody tr th {\n",
       "        vertical-align: top;\n",
       "    }\n",
       "\n",
       "    .dataframe thead th {\n",
       "        text-align: right;\n",
       "    }\n",
       "</style>\n",
       "<table border=\"1\" class=\"dataframe\">\n",
       "  <thead>\n",
       "    <tr style=\"text-align: right;\">\n",
       "      <th></th>\n",
       "      <th>votes</th>\n",
       "      <th>avg_weight</th>\n",
       "      <th>num_delegated</th>\n",
       "      <th>percentage_delegated</th>\n",
       "      <th>num_dao_votes</th>\n",
       "      <th>total_gitcoin_donations</th>\n",
       "      <th>dex_trades_l60d</th>\n",
       "      <th>nft_mints_l60d</th>\n",
       "      <th>nfts_sold_l60d</th>\n",
       "      <th>nfts_bought_l60d</th>\n",
       "    </tr>\n",
       "  </thead>\n",
       "  <tbody>\n",
       "    <tr>\n",
       "      <th>count</th>\n",
       "      <td>78,827.00000</td>\n",
       "      <td>78,827.00000</td>\n",
       "      <td>78,827.00000</td>\n",
       "      <td>78,827.00000</td>\n",
       "      <td>78,827.00000</td>\n",
       "      <td>78,827.00000</td>\n",
       "      <td>78,827.00000</td>\n",
       "      <td>78,827.00000</td>\n",
       "      <td>78,827.00000</td>\n",
       "      <td>78,827.00000</td>\n",
       "    </tr>\n",
       "    <tr>\n",
       "      <th>mean</th>\n",
       "      <td>3.73509</td>\n",
       "      <td>282.67497</td>\n",
       "      <td>236.88229</td>\n",
       "      <td>0.00000</td>\n",
       "      <td>0.35606</td>\n",
       "      <td>1.18598</td>\n",
       "      <td>1.53307</td>\n",
       "      <td>13.24502</td>\n",
       "      <td>0.13067</td>\n",
       "      <td>0.20039</td>\n",
       "    </tr>\n",
       "    <tr>\n",
       "      <th>std</th>\n",
       "      <td>3.21540</td>\n",
       "      <td>37,119.80602</td>\n",
       "      <td>38,147.00352</td>\n",
       "      <td>0.00041</td>\n",
       "      <td>2.47424</td>\n",
       "      <td>13.79501</td>\n",
       "      <td>20.25268</td>\n",
       "      <td>777.12724</td>\n",
       "      <td>3.57946</td>\n",
       "      <td>4.19438</td>\n",
       "    </tr>\n",
       "    <tr>\n",
       "      <th>min</th>\n",
       "      <td>1.00000</td>\n",
       "      <td>0.00000</td>\n",
       "      <td>0.00000</td>\n",
       "      <td>0.00000</td>\n",
       "      <td>0.00000</td>\n",
       "      <td>0.00000</td>\n",
       "      <td>0.00000</td>\n",
       "      <td>0.00000</td>\n",
       "      <td>0.00000</td>\n",
       "      <td>0.00000</td>\n",
       "    </tr>\n",
       "    <tr>\n",
       "      <th>25%</th>\n",
       "      <td>1.00000</td>\n",
       "      <td>0.00000</td>\n",
       "      <td>0.00000</td>\n",
       "      <td>0.00000</td>\n",
       "      <td>0.00000</td>\n",
       "      <td>0.00000</td>\n",
       "      <td>0.00000</td>\n",
       "      <td>0.00000</td>\n",
       "      <td>0.00000</td>\n",
       "      <td>0.00000</td>\n",
       "    </tr>\n",
       "    <tr>\n",
       "      <th>50%</th>\n",
       "      <td>2.00000</td>\n",
       "      <td>1.59000</td>\n",
       "      <td>0.00000</td>\n",
       "      <td>0.00000</td>\n",
       "      <td>0.00000</td>\n",
       "      <td>0.00000</td>\n",
       "      <td>0.00000</td>\n",
       "      <td>0.00000</td>\n",
       "      <td>0.00000</td>\n",
       "      <td>0.00000</td>\n",
       "    </tr>\n",
       "    <tr>\n",
       "      <th>75%</th>\n",
       "      <td>6.00000</td>\n",
       "      <td>5.71000</td>\n",
       "      <td>1.17439</td>\n",
       "      <td>0.00000</td>\n",
       "      <td>0.00000</td>\n",
       "      <td>0.00000</td>\n",
       "      <td>1.00000</td>\n",
       "      <td>4.00000</td>\n",
       "      <td>0.00000</td>\n",
       "      <td>0.00000</td>\n",
       "    </tr>\n",
       "    <tr>\n",
       "      <th>max</th>\n",
       "      <td>13.00000</td>\n",
       "      <td>10,118,377.26000</td>\n",
       "      <td>10,536,043.56961</td>\n",
       "      <td>0.11434</td>\n",
       "      <td>191.00000</td>\n",
       "      <td>2,413.46620</td>\n",
       "      <td>5,275.00000</td>\n",
       "      <td>208,729.00000</td>\n",
       "      <td>450.00000</td>\n",
       "      <td>598.00000</td>\n",
       "    </tr>\n",
       "  </tbody>\n",
       "</table>\n",
       "</div>"
      ],
      "text/plain": [
       "             votes       avg_weight    num_delegated  percentage_delegated  \\\n",
       "count 78,827.00000     78,827.00000     78,827.00000          78,827.00000   \n",
       "mean       3.73509        282.67497        236.88229               0.00000   \n",
       "std        3.21540     37,119.80602     38,147.00352               0.00041   \n",
       "min        1.00000          0.00000          0.00000               0.00000   \n",
       "25%        1.00000          0.00000          0.00000               0.00000   \n",
       "50%        2.00000          1.59000          0.00000               0.00000   \n",
       "75%        6.00000          5.71000          1.17439               0.00000   \n",
       "max       13.00000 10,118,377.26000 10,536,043.56961               0.11434   \n",
       "\n",
       "       num_dao_votes  total_gitcoin_donations  dex_trades_l60d  \\\n",
       "count   78,827.00000             78,827.00000     78,827.00000   \n",
       "mean         0.35606                  1.18598          1.53307   \n",
       "std          2.47424                 13.79501         20.25268   \n",
       "min          0.00000                  0.00000          0.00000   \n",
       "25%          0.00000                  0.00000          0.00000   \n",
       "50%          0.00000                  0.00000          0.00000   \n",
       "75%          0.00000                  0.00000          1.00000   \n",
       "max        191.00000              2,413.46620      5,275.00000   \n",
       "\n",
       "       nft_mints_l60d  nfts_sold_l60d  nfts_bought_l60d  \n",
       "count    78,827.00000    78,827.00000      78,827.00000  \n",
       "mean         13.24502         0.13067           0.20039  \n",
       "std         777.12724         3.57946           4.19438  \n",
       "min           0.00000         0.00000           0.00000  \n",
       "25%           0.00000         0.00000           0.00000  \n",
       "50%           0.00000         0.00000           0.00000  \n",
       "75%           4.00000         0.00000           0.00000  \n",
       "max     208,729.00000       450.00000         598.00000  "
      ]
     },
     "execution_count": 123,
     "metadata": {},
     "output_type": "execute_result"
    }
   ],
   "source": [
    "gen_voters_df = pd.read_csv('gen_voters.csv')\n",
    "gen_voters_df.describe()"
   ]
  },
  {
   "cell_type": "markdown",
   "metadata": {},
   "source": [
    "# Data Aggregation & Feature Engineering"
   ]
  },
  {
   "cell_type": "code",
   "execution_count": 124,
   "metadata": {},
   "outputs": [],
   "source": [
    "gen_voters_df = gen_voters_df.merge(vote_freq_df, on='voter',how='left').fillna(0)"
   ]
  },
  {
   "cell_type": "code",
   "execution_count": 125,
   "metadata": {},
   "outputs": [],
   "source": [
    "gen_voters_df = gen_voters_df.merge(proposal_df, on='voter',how='left').fillna(0)"
   ]
  },
  {
   "cell_type": "code",
   "execution_count": 126,
   "metadata": {},
   "outputs": [
    {
     "data": {
      "text/html": [
       "<div>\n",
       "<style scoped>\n",
       "    .dataframe tbody tr th:only-of-type {\n",
       "        vertical-align: middle;\n",
       "    }\n",
       "\n",
       "    .dataframe tbody tr th {\n",
       "        vertical-align: top;\n",
       "    }\n",
       "\n",
       "    .dataframe thead th {\n",
       "        text-align: right;\n",
       "    }\n",
       "</style>\n",
       "<table border=\"1\" class=\"dataframe\">\n",
       "  <thead>\n",
       "    <tr style=\"text-align: right;\">\n",
       "      <th></th>\n",
       "      <th>votes</th>\n",
       "      <th>avg_weight</th>\n",
       "      <th>num_delegated</th>\n",
       "      <th>percentage_delegated</th>\n",
       "      <th>num_dao_votes</th>\n",
       "      <th>total_gitcoin_donations</th>\n",
       "      <th>dex_trades_l60d</th>\n",
       "      <th>nft_mints_l60d</th>\n",
       "      <th>nfts_sold_l60d</th>\n",
       "      <th>nfts_bought_l60d</th>\n",
       "      <th>avg_normalized_frequency</th>\n",
       "      <th>num_proposals</th>\n",
       "    </tr>\n",
       "  </thead>\n",
       "  <tbody>\n",
       "    <tr>\n",
       "      <th>count</th>\n",
       "      <td>78,827.00000</td>\n",
       "      <td>78,827.00000</td>\n",
       "      <td>78,827.00000</td>\n",
       "      <td>78,827.00000</td>\n",
       "      <td>78,827.00000</td>\n",
       "      <td>78,827.00000</td>\n",
       "      <td>78,827.00000</td>\n",
       "      <td>78,827.00000</td>\n",
       "      <td>78,827.00000</td>\n",
       "      <td>78,827.00000</td>\n",
       "      <td>78,827.00000</td>\n",
       "      <td>78,827.00000</td>\n",
       "    </tr>\n",
       "    <tr>\n",
       "      <th>mean</th>\n",
       "      <td>3.73509</td>\n",
       "      <td>282.67497</td>\n",
       "      <td>236.88229</td>\n",
       "      <td>0.00000</td>\n",
       "      <td>0.35606</td>\n",
       "      <td>1.18598</td>\n",
       "      <td>1.53307</td>\n",
       "      <td>13.24502</td>\n",
       "      <td>0.13067</td>\n",
       "      <td>0.20039</td>\n",
       "      <td>0.00006</td>\n",
       "      <td>0.00231</td>\n",
       "    </tr>\n",
       "    <tr>\n",
       "      <th>std</th>\n",
       "      <td>3.21540</td>\n",
       "      <td>37,119.80602</td>\n",
       "      <td>38,147.00352</td>\n",
       "      <td>0.00041</td>\n",
       "      <td>2.47424</td>\n",
       "      <td>13.79501</td>\n",
       "      <td>20.25268</td>\n",
       "      <td>777.12724</td>\n",
       "      <td>3.57946</td>\n",
       "      <td>4.19438</td>\n",
       "      <td>0.00023</td>\n",
       "      <td>0.26337</td>\n",
       "    </tr>\n",
       "    <tr>\n",
       "      <th>min</th>\n",
       "      <td>1.00000</td>\n",
       "      <td>0.00000</td>\n",
       "      <td>0.00000</td>\n",
       "      <td>0.00000</td>\n",
       "      <td>0.00000</td>\n",
       "      <td>0.00000</td>\n",
       "      <td>0.00000</td>\n",
       "      <td>0.00000</td>\n",
       "      <td>0.00000</td>\n",
       "      <td>0.00000</td>\n",
       "      <td>0.00001</td>\n",
       "      <td>0.00000</td>\n",
       "    </tr>\n",
       "    <tr>\n",
       "      <th>25%</th>\n",
       "      <td>1.00000</td>\n",
       "      <td>0.00000</td>\n",
       "      <td>0.00000</td>\n",
       "      <td>0.00000</td>\n",
       "      <td>0.00000</td>\n",
       "      <td>0.00000</td>\n",
       "      <td>0.00000</td>\n",
       "      <td>0.00000</td>\n",
       "      <td>0.00000</td>\n",
       "      <td>0.00000</td>\n",
       "      <td>0.00002</td>\n",
       "      <td>0.00000</td>\n",
       "    </tr>\n",
       "    <tr>\n",
       "      <th>50%</th>\n",
       "      <td>2.00000</td>\n",
       "      <td>1.59000</td>\n",
       "      <td>0.00000</td>\n",
       "      <td>0.00000</td>\n",
       "      <td>0.00000</td>\n",
       "      <td>0.00000</td>\n",
       "      <td>0.00000</td>\n",
       "      <td>0.00000</td>\n",
       "      <td>0.00000</td>\n",
       "      <td>0.00000</td>\n",
       "      <td>0.00002</td>\n",
       "      <td>0.00000</td>\n",
       "    </tr>\n",
       "    <tr>\n",
       "      <th>75%</th>\n",
       "      <td>6.00000</td>\n",
       "      <td>5.71000</td>\n",
       "      <td>1.17439</td>\n",
       "      <td>0.00000</td>\n",
       "      <td>0.00000</td>\n",
       "      <td>0.00000</td>\n",
       "      <td>1.00000</td>\n",
       "      <td>4.00000</td>\n",
       "      <td>0.00000</td>\n",
       "      <td>0.00000</td>\n",
       "      <td>0.00005</td>\n",
       "      <td>0.00000</td>\n",
       "    </tr>\n",
       "    <tr>\n",
       "      <th>max</th>\n",
       "      <td>13.00000</td>\n",
       "      <td>10,118,377.26000</td>\n",
       "      <td>10,536,043.56961</td>\n",
       "      <td>0.11434</td>\n",
       "      <td>191.00000</td>\n",
       "      <td>2,413.46620</td>\n",
       "      <td>5,275.00000</td>\n",
       "      <td>208,729.00000</td>\n",
       "      <td>450.00000</td>\n",
       "      <td>598.00000</td>\n",
       "      <td>0.03279</td>\n",
       "      <td>40.00000</td>\n",
       "    </tr>\n",
       "  </tbody>\n",
       "</table>\n",
       "</div>"
      ],
      "text/plain": [
       "             votes       avg_weight    num_delegated  percentage_delegated  \\\n",
       "count 78,827.00000     78,827.00000     78,827.00000          78,827.00000   \n",
       "mean       3.73509        282.67497        236.88229               0.00000   \n",
       "std        3.21540     37,119.80602     38,147.00352               0.00041   \n",
       "min        1.00000          0.00000          0.00000               0.00000   \n",
       "25%        1.00000          0.00000          0.00000               0.00000   \n",
       "50%        2.00000          1.59000          0.00000               0.00000   \n",
       "75%        6.00000          5.71000          1.17439               0.00000   \n",
       "max       13.00000 10,118,377.26000 10,536,043.56961               0.11434   \n",
       "\n",
       "       num_dao_votes  total_gitcoin_donations  dex_trades_l60d  \\\n",
       "count   78,827.00000             78,827.00000     78,827.00000   \n",
       "mean         0.35606                  1.18598          1.53307   \n",
       "std          2.47424                 13.79501         20.25268   \n",
       "min          0.00000                  0.00000          0.00000   \n",
       "25%          0.00000                  0.00000          0.00000   \n",
       "50%          0.00000                  0.00000          0.00000   \n",
       "75%          0.00000                  0.00000          1.00000   \n",
       "max        191.00000              2,413.46620      5,275.00000   \n",
       "\n",
       "       nft_mints_l60d  nfts_sold_l60d  nfts_bought_l60d  \\\n",
       "count    78,827.00000    78,827.00000      78,827.00000   \n",
       "mean         13.24502         0.13067           0.20039   \n",
       "std         777.12724         3.57946           4.19438   \n",
       "min           0.00000         0.00000           0.00000   \n",
       "25%           0.00000         0.00000           0.00000   \n",
       "50%           0.00000         0.00000           0.00000   \n",
       "75%           4.00000         0.00000           0.00000   \n",
       "max     208,729.00000       450.00000         598.00000   \n",
       "\n",
       "       avg_normalized_frequency  num_proposals  \n",
       "count              78,827.00000   78,827.00000  \n",
       "mean                    0.00006        0.00231  \n",
       "std                     0.00023        0.26337  \n",
       "min                     0.00001        0.00000  \n",
       "25%                     0.00002        0.00000  \n",
       "50%                     0.00002        0.00000  \n",
       "75%                     0.00005        0.00000  \n",
       "max                     0.03279       40.00000  "
      ]
     },
     "execution_count": 126,
     "metadata": {},
     "output_type": "execute_result"
    }
   ],
   "source": [
    "gen_voters_df.describe()"
   ]
  },
  {
   "cell_type": "code",
   "execution_count": 127,
   "metadata": {},
   "outputs": [
    {
     "data": {
      "text/html": [
       "<div>\n",
       "<style scoped>\n",
       "    .dataframe tbody tr th:only-of-type {\n",
       "        vertical-align: middle;\n",
       "    }\n",
       "\n",
       "    .dataframe tbody tr th {\n",
       "        vertical-align: top;\n",
       "    }\n",
       "\n",
       "    .dataframe thead th {\n",
       "        text-align: right;\n",
       "    }\n",
       "</style>\n",
       "<table border=\"1\" class=\"dataframe\">\n",
       "  <thead>\n",
       "    <tr style=\"text-align: right;\">\n",
       "      <th></th>\n",
       "      <th>votes</th>\n",
       "      <th>avg_weight</th>\n",
       "      <th>num_delegated</th>\n",
       "      <th>percentage_delegated</th>\n",
       "      <th>num_dao_votes</th>\n",
       "      <th>total_gitcoin_donations</th>\n",
       "      <th>dex_trades_l60d</th>\n",
       "      <th>nft_mints_l60d</th>\n",
       "      <th>nfts_sold_l60d</th>\n",
       "      <th>nfts_bought_l60d</th>\n",
       "      <th>num_proposals</th>\n",
       "      <th>voting_frequency_ratio</th>\n",
       "    </tr>\n",
       "  </thead>\n",
       "  <tbody>\n",
       "    <tr>\n",
       "      <th>count</th>\n",
       "      <td>8,761.00000</td>\n",
       "      <td>8,761.00000</td>\n",
       "      <td>8,761.00000</td>\n",
       "      <td>8,761.00000</td>\n",
       "      <td>8,761.00000</td>\n",
       "      <td>8,761.00000</td>\n",
       "      <td>8,761.00000</td>\n",
       "      <td>8,761.00000</td>\n",
       "      <td>8,761.00000</td>\n",
       "      <td>8,761.00000</td>\n",
       "      <td>8,761.00000</td>\n",
       "      <td>8,761.00000</td>\n",
       "    </tr>\n",
       "    <tr>\n",
       "      <th>mean</th>\n",
       "      <td>20.29962</td>\n",
       "      <td>5,004.62139</td>\n",
       "      <td>5,732.80891</td>\n",
       "      <td>0.00006</td>\n",
       "      <td>1.03356</td>\n",
       "      <td>2.65024</td>\n",
       "      <td>3.74352</td>\n",
       "      <td>25.06449</td>\n",
       "      <td>0.35236</td>\n",
       "      <td>0.53350</td>\n",
       "      <td>0.06038</td>\n",
       "      <td>0.00015</td>\n",
       "    </tr>\n",
       "    <tr>\n",
       "      <th>std</th>\n",
       "      <td>6.59888</td>\n",
       "      <td>96,454.84405</td>\n",
       "      <td>109,736.13066</td>\n",
       "      <td>0.00119</td>\n",
       "      <td>8.98561</td>\n",
       "      <td>26.92558</td>\n",
       "      <td>8.05276</td>\n",
       "      <td>121.51394</td>\n",
       "      <td>12.55400</td>\n",
       "      <td>14.50614</td>\n",
       "      <td>1.60141</td>\n",
       "      <td>0.00018</td>\n",
       "    </tr>\n",
       "    <tr>\n",
       "      <th>min</th>\n",
       "      <td>13.00000</td>\n",
       "      <td>0.00000</td>\n",
       "      <td>0.00000</td>\n",
       "      <td>0.00000</td>\n",
       "      <td>0.00000</td>\n",
       "      <td>0.00000</td>\n",
       "      <td>0.00000</td>\n",
       "      <td>0.00000</td>\n",
       "      <td>0.00000</td>\n",
       "      <td>0.00000</td>\n",
       "      <td>0.00000</td>\n",
       "      <td>0.00003</td>\n",
       "    </tr>\n",
       "    <tr>\n",
       "      <th>25%</th>\n",
       "      <td>16.00000</td>\n",
       "      <td>2.07000</td>\n",
       "      <td>0.00000</td>\n",
       "      <td>0.00000</td>\n",
       "      <td>0.00000</td>\n",
       "      <td>0.00000</td>\n",
       "      <td>0.00000</td>\n",
       "      <td>0.00000</td>\n",
       "      <td>0.00000</td>\n",
       "      <td>0.00000</td>\n",
       "      <td>0.00000</td>\n",
       "      <td>0.00006</td>\n",
       "    </tr>\n",
       "    <tr>\n",
       "      <th>50%</th>\n",
       "      <td>18.00000</td>\n",
       "      <td>7.61000</td>\n",
       "      <td>1.65240</td>\n",
       "      <td>0.00000</td>\n",
       "      <td>0.00000</td>\n",
       "      <td>0.00000</td>\n",
       "      <td>0.00000</td>\n",
       "      <td>2.00000</td>\n",
       "      <td>0.00000</td>\n",
       "      <td>0.00000</td>\n",
       "      <td>0.00000</td>\n",
       "      <td>0.00011</td>\n",
       "    </tr>\n",
       "    <tr>\n",
       "      <th>75%</th>\n",
       "      <td>23.00000</td>\n",
       "      <td>33.93000</td>\n",
       "      <td>18.37893</td>\n",
       "      <td>0.00000</td>\n",
       "      <td>0.00000</td>\n",
       "      <td>0.00000</td>\n",
       "      <td>4.00000</td>\n",
       "      <td>29.00000</td>\n",
       "      <td>0.00000</td>\n",
       "      <td>0.00000</td>\n",
       "      <td>0.00000</td>\n",
       "      <td>0.00017</td>\n",
       "    </tr>\n",
       "    <tr>\n",
       "      <th>max</th>\n",
       "      <td>53.00000</td>\n",
       "      <td>4,487,569.59000</td>\n",
       "      <td>5,216,754.77703</td>\n",
       "      <td>0.05661</td>\n",
       "      <td>479.00000</td>\n",
       "      <td>1,046.30215</td>\n",
       "      <td>152.00000</td>\n",
       "      <td>9,873.00000</td>\n",
       "      <td>1,029.00000</td>\n",
       "      <td>1,150.00000</td>\n",
       "      <td>58.00000</td>\n",
       "      <td>0.00560</td>\n",
       "    </tr>\n",
       "  </tbody>\n",
       "</table>\n",
       "</div>"
      ],
      "text/plain": [
       "            votes      avg_weight   num_delegated  percentage_delegated  \\\n",
       "count 8,761.00000     8,761.00000     8,761.00000           8,761.00000   \n",
       "mean     20.29962     5,004.62139     5,732.80891               0.00006   \n",
       "std       6.59888    96,454.84405   109,736.13066               0.00119   \n",
       "min      13.00000         0.00000         0.00000               0.00000   \n",
       "25%      16.00000         2.07000         0.00000               0.00000   \n",
       "50%      18.00000         7.61000         1.65240               0.00000   \n",
       "75%      23.00000        33.93000        18.37893               0.00000   \n",
       "max      53.00000 4,487,569.59000 5,216,754.77703               0.05661   \n",
       "\n",
       "       num_dao_votes  total_gitcoin_donations  dex_trades_l60d  \\\n",
       "count    8,761.00000              8,761.00000      8,761.00000   \n",
       "mean         1.03356                  2.65024          3.74352   \n",
       "std          8.98561                 26.92558          8.05276   \n",
       "min          0.00000                  0.00000          0.00000   \n",
       "25%          0.00000                  0.00000          0.00000   \n",
       "50%          0.00000                  0.00000          0.00000   \n",
       "75%          0.00000                  0.00000          4.00000   \n",
       "max        479.00000              1,046.30215        152.00000   \n",
       "\n",
       "       nft_mints_l60d  nfts_sold_l60d  nfts_bought_l60d  num_proposals  \\\n",
       "count     8,761.00000     8,761.00000       8,761.00000    8,761.00000   \n",
       "mean         25.06449         0.35236           0.53350        0.06038   \n",
       "std         121.51394        12.55400          14.50614        1.60141   \n",
       "min           0.00000         0.00000           0.00000        0.00000   \n",
       "25%           0.00000         0.00000           0.00000        0.00000   \n",
       "50%           2.00000         0.00000           0.00000        0.00000   \n",
       "75%          29.00000         0.00000           0.00000        0.00000   \n",
       "max       9,873.00000     1,029.00000       1,150.00000       58.00000   \n",
       "\n",
       "       voting_frequency_ratio  \n",
       "count             8,761.00000  \n",
       "mean                  0.00015  \n",
       "std                   0.00018  \n",
       "min                   0.00003  \n",
       "25%                   0.00006  \n",
       "50%                   0.00011  \n",
       "75%                   0.00017  \n",
       "max                   0.00560  "
      ]
     },
     "execution_count": 127,
     "metadata": {},
     "output_type": "execute_result"
    }
   ],
   "source": [
    "top_voters_df.describe()"
   ]
  },
  {
   "cell_type": "code",
   "execution_count": 128,
   "metadata": {},
   "outputs": [],
   "source": [
    "gen_voters_df['ENS'] = gen_voters_df['name'].apply(lambda x: 1 if isinstance(x, str) and x.endswith('.eth') else 0)\n",
    "top_voters_df['ENS'] = top_voters_df['name'].apply(lambda x: 1 if isinstance(x, str) and x.endswith('.eth') else 0)"
   ]
  },
  {
   "cell_type": "code",
   "execution_count": 129,
   "metadata": {},
   "outputs": [
    {
     "name": "stdout",
     "output_type": "stream",
     "text": [
      "voting_frequency_ratio    1.00000\n",
      "votes                     0.20640\n",
      "dex_trades_l60d           0.07565\n",
      "ENS                       0.04953\n",
      "num_delegated             0.02693\n",
      "percentage_delegated      0.02693\n",
      "avg_weight                0.02613\n",
      "nft_mints_l60d            0.02517\n",
      "nfts_bought_l60d          0.00949\n",
      "nfts_sold_l60d            0.00850\n",
      "num_proposals             0.00804\n",
      "num_dao_votes             0.00630\n",
      "total_gitcoin_donations   0.00362\n",
      "Name: voting_frequency_ratio, dtype: float64\n"
     ]
    }
   ],
   "source": [
    "top_voters_cor = top_voters_df.corr(numeric_only=True)\n",
    "print(top_voters_cor['voting_frequency_ratio'].sort_values(ascending=False))"
   ]
  },
  {
   "cell_type": "code",
   "execution_count": 130,
   "metadata": {},
   "outputs": [
    {
     "name": "stdout",
     "output_type": "stream",
     "text": [
      "votes                      1.00000\n",
      "voting_frequency_ratio     0.20640\n",
      "dex_trades_l60d            0.18717\n",
      "num_delegated              0.08069\n",
      "percentage_delegated       0.08068\n",
      "avg_weight                 0.07761\n",
      "num_proposals              0.03008\n",
      "total_gitcoin_donations    0.02390\n",
      "nft_mints_l60d             0.01987\n",
      "num_dao_votes              0.00986\n",
      "nfts_sold_l60d            -0.01035\n",
      "nfts_bought_l60d          -0.01151\n",
      "ENS                       -0.05351\n",
      "Name: votes, dtype: float64\n"
     ]
    }
   ],
   "source": [
    "print(top_voters_cor['votes'].sort_values(ascending=False))"
   ]
  },
  {
   "cell_type": "code",
   "execution_count": 131,
   "metadata": {},
   "outputs": [
    {
     "name": "stdout",
     "output_type": "stream",
     "text": [
      "num_delegated              1.00000\n",
      "percentage_delegated       1.00000\n",
      "avg_weight                 0.94036\n",
      "num_proposals              0.35807\n",
      "num_dao_votes              0.18538\n",
      "total_gitcoin_donations    0.11842\n",
      "votes                      0.08069\n",
      "ENS                        0.04493\n",
      "voting_frequency_ratio     0.02693\n",
      "nfts_sold_l60d            -0.00140\n",
      "nfts_bought_l60d          -0.00163\n",
      "nft_mints_l60d            -0.00709\n",
      "dex_trades_l60d           -0.02073\n",
      "Name: num_delegated, dtype: float64\n"
     ]
    }
   ],
   "source": [
    "print(top_voters_cor['num_delegated'].sort_values(ascending=False))"
   ]
  },
  {
   "cell_type": "code",
   "execution_count": 132,
   "metadata": {},
   "outputs": [
    {
     "data": {
      "text/html": [
       "<div>\n",
       "<style scoped>\n",
       "    .dataframe tbody tr th:only-of-type {\n",
       "        vertical-align: middle;\n",
       "    }\n",
       "\n",
       "    .dataframe tbody tr th {\n",
       "        vertical-align: top;\n",
       "    }\n",
       "\n",
       "    .dataframe thead th {\n",
       "        text-align: right;\n",
       "    }\n",
       "</style>\n",
       "<table border=\"1\" class=\"dataframe\">\n",
       "  <thead>\n",
       "    <tr style=\"text-align: right;\">\n",
       "      <th></th>\n",
       "      <th>voter</th>\n",
       "      <th>name</th>\n",
       "      <th>votes</th>\n",
       "      <th>avg_weight</th>\n",
       "      <th>num_delegated</th>\n",
       "      <th>percentage_delegated</th>\n",
       "      <th>num_dao_votes</th>\n",
       "      <th>total_gitcoin_donations</th>\n",
       "      <th>dex_trades_l60d</th>\n",
       "      <th>nft_mints_l60d</th>\n",
       "      <th>nfts_sold_l60d</th>\n",
       "      <th>nfts_bought_l60d</th>\n",
       "      <th>avg_normalized_frequency</th>\n",
       "      <th>num_proposals</th>\n",
       "      <th>ENS</th>\n",
       "    </tr>\n",
       "  </thead>\n",
       "  <tbody>\n",
       "    <tr>\n",
       "      <th>0</th>\n",
       "      <td>0x8c1f91b04eeb01e781d0ab6f3154588b624fb866</td>\n",
       "      <td>&lt;nil&gt;</td>\n",
       "      <td>13</td>\n",
       "      <td>2.72000</td>\n",
       "      <td>2.72135</td>\n",
       "      <td>0.00000</td>\n",
       "      <td>0</td>\n",
       "      <td>0.00000</td>\n",
       "      <td>0</td>\n",
       "      <td>0</td>\n",
       "      <td>0</td>\n",
       "      <td>0</td>\n",
       "      <td>0.00009</td>\n",
       "      <td>0.00000</td>\n",
       "      <td>0</td>\n",
       "    </tr>\n",
       "    <tr>\n",
       "      <th>1</th>\n",
       "      <td>0xdca8ef8a999e6c6d7490b0ce7f86c645ba3aaf8e</td>\n",
       "      <td>&lt;nil&gt;</td>\n",
       "      <td>13</td>\n",
       "      <td>5.27000</td>\n",
       "      <td>5.65448</td>\n",
       "      <td>0.00000</td>\n",
       "      <td>0</td>\n",
       "      <td>0.00000</td>\n",
       "      <td>0</td>\n",
       "      <td>0</td>\n",
       "      <td>0</td>\n",
       "      <td>0</td>\n",
       "      <td>0.00003</td>\n",
       "      <td>0.00000</td>\n",
       "      <td>0</td>\n",
       "    </tr>\n",
       "    <tr>\n",
       "      <th>2</th>\n",
       "      <td>0xde6556218db4ce7ec3b24f37877c111d62095bd9</td>\n",
       "      <td>&lt;nil&gt;</td>\n",
       "      <td>13</td>\n",
       "      <td>20.09000</td>\n",
       "      <td>0.03692</td>\n",
       "      <td>0.00000</td>\n",
       "      <td>0</td>\n",
       "      <td>0.00000</td>\n",
       "      <td>12</td>\n",
       "      <td>29</td>\n",
       "      <td>0</td>\n",
       "      <td>0</td>\n",
       "      <td>0.00004</td>\n",
       "      <td>0.00000</td>\n",
       "      <td>0</td>\n",
       "    </tr>\n",
       "    <tr>\n",
       "      <th>3</th>\n",
       "      <td>0x2917634fd7319c38d377fff1d9ccac4505921339</td>\n",
       "      <td>haitangkeji.eth</td>\n",
       "      <td>13</td>\n",
       "      <td>0.23000</td>\n",
       "      <td>0.19259</td>\n",
       "      <td>0.00000</td>\n",
       "      <td>22</td>\n",
       "      <td>0.00000</td>\n",
       "      <td>0</td>\n",
       "      <td>0</td>\n",
       "      <td>0</td>\n",
       "      <td>0</td>\n",
       "      <td>0.00006</td>\n",
       "      <td>0.00000</td>\n",
       "      <td>1</td>\n",
       "    </tr>\n",
       "    <tr>\n",
       "      <th>4</th>\n",
       "      <td>0x7264636313534d00cf398ca682d0723336370fd0</td>\n",
       "      <td>&lt;nil&gt;</td>\n",
       "      <td>13</td>\n",
       "      <td>4.41000</td>\n",
       "      <td>4.65597</td>\n",
       "      <td>0.00000</td>\n",
       "      <td>0</td>\n",
       "      <td>0.00000</td>\n",
       "      <td>0</td>\n",
       "      <td>0</td>\n",
       "      <td>0</td>\n",
       "      <td>0</td>\n",
       "      <td>0.00013</td>\n",
       "      <td>0.00000</td>\n",
       "      <td>0</td>\n",
       "    </tr>\n",
       "    <tr>\n",
       "      <th>...</th>\n",
       "      <td>...</td>\n",
       "      <td>...</td>\n",
       "      <td>...</td>\n",
       "      <td>...</td>\n",
       "      <td>...</td>\n",
       "      <td>...</td>\n",
       "      <td>...</td>\n",
       "      <td>...</td>\n",
       "      <td>...</td>\n",
       "      <td>...</td>\n",
       "      <td>...</td>\n",
       "      <td>...</td>\n",
       "      <td>...</td>\n",
       "      <td>...</td>\n",
       "      <td>...</td>\n",
       "    </tr>\n",
       "    <tr>\n",
       "      <th>78822</th>\n",
       "      <td>0xfb2756ed668f60b75ab29c1d88ed3730a76dc866</td>\n",
       "      <td>loan.ensmaxisfam.eth</td>\n",
       "      <td>1</td>\n",
       "      <td>0.13000</td>\n",
       "      <td>0.00000</td>\n",
       "      <td>0.00000</td>\n",
       "      <td>0</td>\n",
       "      <td>0.00000</td>\n",
       "      <td>0</td>\n",
       "      <td>0</td>\n",
       "      <td>0</td>\n",
       "      <td>0</td>\n",
       "      <td>0.00002</td>\n",
       "      <td>0.00000</td>\n",
       "      <td>1</td>\n",
       "    </tr>\n",
       "    <tr>\n",
       "      <th>78823</th>\n",
       "      <td>0x4749b9793cc6539ca312aa92f699e04cde071f39</td>\n",
       "      <td>&lt;nil&gt;</td>\n",
       "      <td>1</td>\n",
       "      <td>2.94000</td>\n",
       "      <td>0.00000</td>\n",
       "      <td>0.00000</td>\n",
       "      <td>0</td>\n",
       "      <td>0.00000</td>\n",
       "      <td>0</td>\n",
       "      <td>0</td>\n",
       "      <td>0</td>\n",
       "      <td>0</td>\n",
       "      <td>0.00002</td>\n",
       "      <td>0.00000</td>\n",
       "      <td>0</td>\n",
       "    </tr>\n",
       "    <tr>\n",
       "      <th>78824</th>\n",
       "      <td>0x25b5293b472e5783f8cc5763e2b61009abf7e91a</td>\n",
       "      <td>hacker001.eth</td>\n",
       "      <td>1</td>\n",
       "      <td>4.09000</td>\n",
       "      <td>0.00000</td>\n",
       "      <td>0.00000</td>\n",
       "      <td>0</td>\n",
       "      <td>0.00000</td>\n",
       "      <td>0</td>\n",
       "      <td>0</td>\n",
       "      <td>0</td>\n",
       "      <td>0</td>\n",
       "      <td>0.00002</td>\n",
       "      <td>0.00000</td>\n",
       "      <td>1</td>\n",
       "    </tr>\n",
       "    <tr>\n",
       "      <th>78825</th>\n",
       "      <td>0xf91a49a9a931e0aa4535c6bf8a4162fef50db5e2</td>\n",
       "      <td>&lt;nil&gt;</td>\n",
       "      <td>1</td>\n",
       "      <td>3.11000</td>\n",
       "      <td>3.10519</td>\n",
       "      <td>0.00000</td>\n",
       "      <td>0</td>\n",
       "      <td>0.00000</td>\n",
       "      <td>0</td>\n",
       "      <td>0</td>\n",
       "      <td>0</td>\n",
       "      <td>0</td>\n",
       "      <td>0.00001</td>\n",
       "      <td>0.00000</td>\n",
       "      <td>0</td>\n",
       "    </tr>\n",
       "    <tr>\n",
       "      <th>78826</th>\n",
       "      <td>0x1437c2215a6c3276f2943a066278177a93f63c3f</td>\n",
       "      <td>&lt;nil&gt;</td>\n",
       "      <td>1</td>\n",
       "      <td>0.00000</td>\n",
       "      <td>0.00000</td>\n",
       "      <td>0.00000</td>\n",
       "      <td>0</td>\n",
       "      <td>0.00000</td>\n",
       "      <td>1</td>\n",
       "      <td>0</td>\n",
       "      <td>0</td>\n",
       "      <td>0</td>\n",
       "      <td>0.00002</td>\n",
       "      <td>0.00000</td>\n",
       "      <td>0</td>\n",
       "    </tr>\n",
       "  </tbody>\n",
       "</table>\n",
       "<p>78827 rows × 15 columns</p>\n",
       "</div>"
      ],
      "text/plain": [
       "                                            voter                  name  \\\n",
       "0      0x8c1f91b04eeb01e781d0ab6f3154588b624fb866                 <nil>   \n",
       "1      0xdca8ef8a999e6c6d7490b0ce7f86c645ba3aaf8e                 <nil>   \n",
       "2      0xde6556218db4ce7ec3b24f37877c111d62095bd9                 <nil>   \n",
       "3      0x2917634fd7319c38d377fff1d9ccac4505921339       haitangkeji.eth   \n",
       "4      0x7264636313534d00cf398ca682d0723336370fd0                 <nil>   \n",
       "...                                           ...                   ...   \n",
       "78822  0xfb2756ed668f60b75ab29c1d88ed3730a76dc866  loan.ensmaxisfam.eth   \n",
       "78823  0x4749b9793cc6539ca312aa92f699e04cde071f39                 <nil>   \n",
       "78824  0x25b5293b472e5783f8cc5763e2b61009abf7e91a         hacker001.eth   \n",
       "78825  0xf91a49a9a931e0aa4535c6bf8a4162fef50db5e2                 <nil>   \n",
       "78826  0x1437c2215a6c3276f2943a066278177a93f63c3f                 <nil>   \n",
       "\n",
       "       votes  avg_weight  num_delegated  percentage_delegated  num_dao_votes  \\\n",
       "0         13     2.72000        2.72135               0.00000              0   \n",
       "1         13     5.27000        5.65448               0.00000              0   \n",
       "2         13    20.09000        0.03692               0.00000              0   \n",
       "3         13     0.23000        0.19259               0.00000             22   \n",
       "4         13     4.41000        4.65597               0.00000              0   \n",
       "...      ...         ...            ...                   ...            ...   \n",
       "78822      1     0.13000        0.00000               0.00000              0   \n",
       "78823      1     2.94000        0.00000               0.00000              0   \n",
       "78824      1     4.09000        0.00000               0.00000              0   \n",
       "78825      1     3.11000        3.10519               0.00000              0   \n",
       "78826      1     0.00000        0.00000               0.00000              0   \n",
       "\n",
       "       total_gitcoin_donations  dex_trades_l60d  nft_mints_l60d  \\\n",
       "0                      0.00000                0               0   \n",
       "1                      0.00000                0               0   \n",
       "2                      0.00000               12              29   \n",
       "3                      0.00000                0               0   \n",
       "4                      0.00000                0               0   \n",
       "...                        ...              ...             ...   \n",
       "78822                  0.00000                0               0   \n",
       "78823                  0.00000                0               0   \n",
       "78824                  0.00000                0               0   \n",
       "78825                  0.00000                0               0   \n",
       "78826                  0.00000                1               0   \n",
       "\n",
       "       nfts_sold_l60d  nfts_bought_l60d  avg_normalized_frequency  \\\n",
       "0                   0                 0                   0.00009   \n",
       "1                   0                 0                   0.00003   \n",
       "2                   0                 0                   0.00004   \n",
       "3                   0                 0                   0.00006   \n",
       "4                   0                 0                   0.00013   \n",
       "...               ...               ...                       ...   \n",
       "78822               0                 0                   0.00002   \n",
       "78823               0                 0                   0.00002   \n",
       "78824               0                 0                   0.00002   \n",
       "78825               0                 0                   0.00001   \n",
       "78826               0                 0                   0.00002   \n",
       "\n",
       "       num_proposals  ENS  \n",
       "0            0.00000    0  \n",
       "1            0.00000    0  \n",
       "2            0.00000    0  \n",
       "3            0.00000    1  \n",
       "4            0.00000    0  \n",
       "...              ...  ...  \n",
       "78822        0.00000    1  \n",
       "78823        0.00000    0  \n",
       "78824        0.00000    1  \n",
       "78825        0.00000    0  \n",
       "78826        0.00000    0  \n",
       "\n",
       "[78827 rows x 15 columns]"
      ]
     },
     "execution_count": 132,
     "metadata": {},
     "output_type": "execute_result"
    }
   ],
   "source": [
    "gen_voters_df"
   ]
  },
  {
   "cell_type": "code",
   "execution_count": 133,
   "metadata": {},
   "outputs": [
    {
     "name": "stdout",
     "output_type": "stream",
     "text": [
      "avg_normalized_frequency    1.00000\n",
      "votes                       0.07415\n",
      "ENS                         0.03475\n",
      "dex_trades_l60d             0.01502\n",
      "nfts_sold_l60d              0.01102\n",
      "nfts_bought_l60d            0.00998\n",
      "num_proposals               0.00898\n",
      "num_dao_votes               0.00725\n",
      "avg_weight                  0.00671\n",
      "num_delegated               0.00621\n",
      "percentage_delegated        0.00620\n",
      "nft_mints_l60d              0.00348\n",
      "total_gitcoin_donations    -0.00026\n",
      "Name: avg_normalized_frequency, dtype: float64\n"
     ]
    }
   ],
   "source": [
    "gen_voters_cor = gen_voters_df.corr(numeric_only=True)\n",
    "print(gen_voters_cor['avg_normalized_frequency'].sort_values(ascending=False))"
   ]
  },
  {
   "cell_type": "code",
   "execution_count": 134,
   "metadata": {},
   "outputs": [
    {
     "name": "stdout",
     "output_type": "stream",
     "text": [
      "votes                      1.00000\n",
      "ENS                        0.07791\n",
      "avg_normalized_frequency   0.07415\n",
      "num_dao_votes              0.03940\n",
      "nft_mints_l60d             0.01143\n",
      "total_gitcoin_donations    0.00974\n",
      "dex_trades_l60d            0.00933\n",
      "avg_weight                 0.00873\n",
      "nfts_sold_l60d             0.00871\n",
      "num_delegated              0.00820\n",
      "percentage_delegated       0.00818\n",
      "num_proposals              0.00490\n",
      "nfts_bought_l60d           0.00322\n",
      "Name: votes, dtype: float64\n"
     ]
    }
   ],
   "source": [
    "print(gen_voters_cor['votes'].sort_values(ascending=False))"
   ]
  },
  {
   "cell_type": "code",
   "execution_count": 135,
   "metadata": {},
   "outputs": [
    {
     "name": "stdout",
     "output_type": "stream",
     "text": [
      "num_delegated               1.00000\n",
      "percentage_delegated        1.00000\n",
      "avg_weight                  0.98970\n",
      "num_proposals               0.02083\n",
      "num_dao_votes               0.00835\n",
      "votes                       0.00820\n",
      "ENS                         0.00629\n",
      "avg_normalized_frequency    0.00621\n",
      "total_gitcoin_donations     0.00044\n",
      "nft_mints_l60d             -0.00009\n",
      "nfts_sold_l60d             -0.00020\n",
      "nfts_bought_l60d           -0.00027\n",
      "dex_trades_l60d            -0.00033\n",
      "Name: num_delegated, dtype: float64\n"
     ]
    }
   ],
   "source": [
    "print(gen_voters_cor['num_delegated'].sort_values(ascending=False))"
   ]
  },
  {
   "cell_type": "code",
   "execution_count": 136,
   "metadata": {},
   "outputs": [
    {
     "data": {
      "text/plain": [
       "Index(['voter', 'name', 'votes', 'avg_weight', 'num_delegated',\n",
       "       'percentage_delegated', 'num_dao_votes', 'total_gitcoin_donations',\n",
       "       'dex_trades_l60d', 'nft_mints_l60d', 'nfts_sold_l60d',\n",
       "       'nfts_bought_l60d', 'num_proposals', 'voting_frequency_ratio', 'ENS'],\n",
       "      dtype='object')"
      ]
     },
     "execution_count": 136,
     "metadata": {},
     "output_type": "execute_result"
    }
   ],
   "source": [
    "top_voters_df.columns"
   ]
  },
  {
   "cell_type": "code",
   "execution_count": 137,
   "metadata": {},
   "outputs": [],
   "source": [
    "gen_voters_df.rename(columns={\"avg_normalized_frequency\":\"voting_frequency_ratio\"}, inplace=True)"
   ]
  },
  {
   "cell_type": "code",
   "execution_count": 138,
   "metadata": {},
   "outputs": [
    {
     "data": {
      "text/plain": [
       "16"
      ]
     },
     "execution_count": 138,
     "metadata": {},
     "output_type": "execute_result"
    }
   ],
   "source": [
    "top_voters_df['type'] = 'top'\n",
    "len(top_voters_df.columns)\n",
    "# top_voters_df.columns"
   ]
  },
  {
   "cell_type": "code",
   "execution_count": 139,
   "metadata": {},
   "outputs": [
    {
     "data": {
      "text/plain": [
       "16"
      ]
     },
     "execution_count": 139,
     "metadata": {},
     "output_type": "execute_result"
    }
   ],
   "source": [
    "gen_voters_df['type'] = 'gen'\n",
    "len(gen_voters_df.columns)\n",
    "# gen_voters_df.columns"
   ]
  },
  {
   "cell_type": "code",
   "execution_count": 140,
   "metadata": {},
   "outputs": [],
   "source": [
    "combined_df = pd.concat([top_voters_df, gen_voters_df], ignore_index=True)\n"
   ]
  },
  {
   "cell_type": "code",
   "execution_count": 141,
   "metadata": {},
   "outputs": [
    {
     "data": {
      "text/plain": [
       "Index(['voter', 'name', 'votes', 'avg_weight', 'num_delegated',\n",
       "       'percentage_delegated', 'num_dao_votes', 'total_gitcoin_donations',\n",
       "       'dex_trades_l60d', 'nft_mints_l60d', 'nfts_sold_l60d',\n",
       "       'nfts_bought_l60d', 'num_proposals', 'voting_frequency_ratio', 'ENS',\n",
       "       'type'],\n",
       "      dtype='object')"
      ]
     },
     "execution_count": 141,
     "metadata": {},
     "output_type": "execute_result"
    }
   ],
   "source": [
    "combined_df.columns"
   ]
  },
  {
   "cell_type": "markdown",
   "metadata": {},
   "source": [
    "# Correlation Analysis"
   ]
  },
  {
   "cell_type": "code",
   "execution_count": 142,
   "metadata": {},
   "outputs": [
    {
     "name": "stdout",
     "output_type": "stream",
     "text": [
      "voting_frequency_ratio    1.00000\n",
      "votes                     0.15118\n",
      "ENS                       0.04624\n",
      "dex_trades_l60d           0.02099\n",
      "num_delegated             0.01306\n",
      "percentage_delegated      0.01305\n",
      "avg_weight                0.01293\n",
      "num_dao_votes             0.01241\n",
      "nfts_bought_l60d          0.01011\n",
      "nfts_sold_l60d            0.01007\n",
      "num_proposals             0.00942\n",
      "nft_mints_l60d            0.00426\n",
      "total_gitcoin_donations   0.00375\n",
      "Name: voting_frequency_ratio, dtype: float64\n"
     ]
    }
   ],
   "source": [
    "combined_cor = combined_df.corr(numeric_only=True)\n",
    "print(combined_cor['voting_frequency_ratio'].sort_values(ascending=False))"
   ]
  },
  {
   "cell_type": "code",
   "execution_count": 143,
   "metadata": {},
   "outputs": [
    {
     "name": "stdout",
     "output_type": "stream",
     "text": [
      "votes                     1.00000\n",
      "voting_frequency_ratio    0.15118\n",
      "ENS                       0.10039\n",
      "num_dao_votes             0.05908\n",
      "num_delegated             0.04810\n",
      "percentage_delegated      0.04807\n",
      "avg_weight                0.04475\n",
      "dex_trades_l60d           0.04028\n",
      "num_proposals             0.03490\n",
      "total_gitcoin_donations   0.03098\n",
      "nfts_bought_l60d          0.01131\n",
      "nfts_sold_l60d            0.01035\n",
      "nft_mints_l60d            0.00982\n",
      "Name: votes, dtype: float64\n"
     ]
    }
   ],
   "source": [
    "print(combined_cor['votes'].sort_values(ascending=False))"
   ]
  },
  {
   "cell_type": "code",
   "execution_count": 144,
   "metadata": {},
   "outputs": [
    {
     "name": "stdout",
     "output_type": "stream",
     "text": [
      "num_proposals              1.00000\n",
      "percentage_delegated       0.22970\n",
      "num_delegated              0.22970\n",
      "avg_weight                 0.12370\n",
      "num_dao_votes              0.08755\n",
      "votes                      0.03490\n",
      "total_gitcoin_donations    0.03364\n",
      "ENS                        0.01941\n",
      "voting_frequency_ratio     0.00942\n",
      "nft_mints_l60d            -0.00008\n",
      "nfts_sold_l60d            -0.00042\n",
      "nfts_bought_l60d          -0.00053\n",
      "dex_trades_l60d           -0.00121\n",
      "Name: num_proposals, dtype: float64\n"
     ]
    }
   ],
   "source": [
    "print(combined_cor['num_proposals'].sort_values(ascending=False))"
   ]
  },
  {
   "cell_type": "code",
   "execution_count": 145,
   "metadata": {},
   "outputs": [
    {
     "name": "stdout",
     "output_type": "stream",
     "text": [
      "num_delegated              1.00000\n",
      "percentage_delegated       1.00000\n",
      "avg_weight                 0.96610\n",
      "num_proposals              0.22970\n",
      "num_dao_votes              0.10437\n",
      "votes                      0.04810\n",
      "total_gitcoin_donations    0.04585\n",
      "ENS                        0.01745\n",
      "voting_frequency_ratio     0.01306\n",
      "nft_mints_l60d            -0.00016\n",
      "nfts_sold_l60d            -0.00041\n",
      "nfts_bought_l60d          -0.00044\n",
      "dex_trades_l60d           -0.00100\n",
      "Name: num_delegated, dtype: float64\n"
     ]
    }
   ],
   "source": [
    "print(combined_cor['num_delegated'].sort_values(ascending=False))"
   ]
  },
  {
   "cell_type": "code",
   "execution_count": 146,
   "metadata": {},
   "outputs": [
    {
     "data": {
      "text/plain": [
       "count   87,588.00000\n",
       "mean         0.00007\n",
       "std          0.00023\n",
       "min          0.00001\n",
       "25%          0.00002\n",
       "50%          0.00003\n",
       "75%          0.00006\n",
       "max          0.03279\n",
       "Name: voting_frequency_ratio, dtype: float64"
      ]
     },
     "execution_count": 146,
     "metadata": {},
     "output_type": "execute_result"
    }
   ],
   "source": [
    "combined_df['voting_frequency_ratio'].describe()"
   ]
  },
  {
   "cell_type": "markdown",
   "metadata": {},
   "source": [
    "## Highly Engaged is Defined as Top 25% of Voters by Voting Frequency - This Will be the Target"
   ]
  },
  {
   "cell_type": "code",
   "execution_count": 147,
   "metadata": {},
   "outputs": [],
   "source": [
    "engagement_threshold = combined_df['voting_frequency_ratio'].quantile(0.75)  # Top 25% threshold\n",
    "combined_df['highly_engaged'] = combined_df['voting_frequency_ratio'].apply(lambda x: 1 if x > engagement_threshold else 0)\n"
   ]
  },
  {
   "cell_type": "code",
   "execution_count": 148,
   "metadata": {},
   "outputs": [
    {
     "data": {
      "text/plain": [
       "0        1\n",
       "1        1\n",
       "2        1\n",
       "3        1\n",
       "4        1\n",
       "        ..\n",
       "87583    0\n",
       "87584    0\n",
       "87585    0\n",
       "87586    0\n",
       "87587    0\n",
       "Name: highly_engaged, Length: 87588, dtype: int64"
      ]
     },
     "execution_count": 148,
     "metadata": {},
     "output_type": "execute_result"
    }
   ],
   "source": [
    "combined_df['highly_engaged']"
   ]
  },
  {
   "cell_type": "code",
   "execution_count": 149,
   "metadata": {},
   "outputs": [
    {
     "data": {
      "text/plain": [
       "Index(['voter', 'name', 'votes', 'avg_weight', 'num_delegated',\n",
       "       'percentage_delegated', 'num_dao_votes', 'total_gitcoin_donations',\n",
       "       'dex_trades_l60d', 'nft_mints_l60d', 'nfts_sold_l60d',\n",
       "       'nfts_bought_l60d', 'num_proposals', 'voting_frequency_ratio', 'ENS',\n",
       "       'type', 'highly_engaged'],\n",
       "      dtype='object')"
      ]
     },
     "execution_count": 149,
     "metadata": {},
     "output_type": "execute_result"
    }
   ],
   "source": [
    "combined_df.columns"
   ]
  },
  {
   "cell_type": "code",
   "execution_count": 150,
   "metadata": {},
   "outputs": [],
   "source": [
    "numeric = combined_df.select_dtypes(include=['number'])"
   ]
  },
  {
   "cell_type": "code",
   "execution_count": 165,
   "metadata": {},
   "outputs": [
    {
     "data": {
      "text/plain": [
       "Index(['votes', 'avg_weight', 'num_delegated', 'percentage_delegated',\n",
       "       'num_dao_votes', 'total_gitcoin_donations', 'dex_trades_l60d',\n",
       "       'nft_mints_l60d', 'nfts_sold_l60d', 'nfts_bought_l60d', 'num_proposals',\n",
       "       'ENS'],\n",
       "      dtype='object')"
      ]
     },
     "execution_count": 165,
     "metadata": {},
     "output_type": "execute_result"
    }
   ],
   "source": [
    "features"
   ]
  },
  {
   "cell_type": "code",
   "execution_count": 166,
   "metadata": {},
   "outputs": [
    {
     "data": {
      "text/plain": [
       "'highly_engaged'"
      ]
     },
     "execution_count": 166,
     "metadata": {},
     "output_type": "execute_result"
    }
   ],
   "source": [
    "target"
   ]
  },
  {
   "cell_type": "code",
   "execution_count": 167,
   "metadata": {},
   "outputs": [
    {
     "data": {
      "text/plain": [
       "count   87,588.00000\n",
       "mean         0.00007\n",
       "std          0.00023\n",
       "min          0.00001\n",
       "25%          0.00002\n",
       "50%          0.00003\n",
       "75%          0.00006\n",
       "max          0.03279\n",
       "Name: voting_frequency_ratio, dtype: float64"
      ]
     },
     "execution_count": 167,
     "metadata": {},
     "output_type": "execute_result"
    }
   ],
   "source": [
    "combined_df['voting_frequency_ratio'].describe()"
   ]
  },
  {
   "cell_type": "code",
   "execution_count": 169,
   "metadata": {},
   "outputs": [
    {
     "name": "stderr",
     "output_type": "stream",
     "text": [
      "e:\\Projects\\steth_optimizer\\steth_optimizer\\Lib\\site-packages\\sklearn\\linear_model\\_logistic.py:469: ConvergenceWarning: lbfgs failed to converge (status=1):\n",
      "STOP: TOTAL NO. of ITERATIONS REACHED LIMIT.\n",
      "\n",
      "Increase the number of iterations (max_iter) or scale the data as shown in:\n",
      "    https://scikit-learn.org/stable/modules/preprocessing.html\n",
      "Please also refer to the documentation for alternative solver options:\n",
      "    https://scikit-learn.org/stable/modules/linear_model.html#logistic-regression\n",
      "  n_iter_i = _check_optimize_result(\n"
     ]
    }
   ],
   "source": [
    "threshold = combined_df['voting_frequency_ratio'].quantile(0.75)  # Top 25%\n",
    "\n",
    "# Feature selection\n",
    "X = combined_df[features]  # Add more features as needed\n",
    "y = (combined_df['voting_frequency_ratio'] > threshold).astype(int)  # Target variable\n",
    "\n",
    "# Split data\n",
    "X_train, X_test, y_train, y_test = train_test_split(X, y, test_size=0.2, random_state=seed)\n",
    "\n",
    "# Logistic Regression model\n",
    "model.fit(X_train, y_train)\n",
    "\n",
    "# Predict and add to dataframe\n",
    "combined_df['highly_engaged'] = model.predict(X)"
   ]
  },
  {
   "cell_type": "code",
   "execution_count": 170,
   "metadata": {},
   "outputs": [
    {
     "data": {
      "text/html": [
       "<div>\n",
       "<style scoped>\n",
       "    .dataframe tbody tr th:only-of-type {\n",
       "        vertical-align: middle;\n",
       "    }\n",
       "\n",
       "    .dataframe tbody tr th {\n",
       "        vertical-align: top;\n",
       "    }\n",
       "\n",
       "    .dataframe thead th {\n",
       "        text-align: right;\n",
       "    }\n",
       "</style>\n",
       "<table border=\"1\" class=\"dataframe\">\n",
       "  <thead>\n",
       "    <tr style=\"text-align: right;\">\n",
       "      <th></th>\n",
       "      <th>votes</th>\n",
       "      <th>avg_weight</th>\n",
       "      <th>num_delegated</th>\n",
       "      <th>percentage_delegated</th>\n",
       "      <th>num_dao_votes</th>\n",
       "      <th>total_gitcoin_donations</th>\n",
       "      <th>dex_trades_l60d</th>\n",
       "      <th>nft_mints_l60d</th>\n",
       "      <th>nfts_sold_l60d</th>\n",
       "      <th>nfts_bought_l60d</th>\n",
       "      <th>num_proposals</th>\n",
       "      <th>voting_frequency_ratio</th>\n",
       "      <th>ENS</th>\n",
       "      <th>highly_engaged</th>\n",
       "    </tr>\n",
       "  </thead>\n",
       "  <tbody>\n",
       "    <tr>\n",
       "      <th>count</th>\n",
       "      <td>27,575.00000</td>\n",
       "      <td>27,575.00000</td>\n",
       "      <td>27,575.00000</td>\n",
       "      <td>27,575.00000</td>\n",
       "      <td>27,575.00000</td>\n",
       "      <td>27,575.00000</td>\n",
       "      <td>27,575.00000</td>\n",
       "      <td>27,575.00000</td>\n",
       "      <td>27,575.00000</td>\n",
       "      <td>27,575.00000</td>\n",
       "      <td>27,575.00000</td>\n",
       "      <td>27,575.00000</td>\n",
       "      <td>27,575.00000</td>\n",
       "      <td>27,575.00000</td>\n",
       "    </tr>\n",
       "    <tr>\n",
       "      <th>mean</th>\n",
       "      <td>12.38995</td>\n",
       "      <td>2,341.77186</td>\n",
       "      <td>2,465.17558</td>\n",
       "      <td>0.00003</td>\n",
       "      <td>0.76464</td>\n",
       "      <td>1.53229</td>\n",
       "      <td>3.11267</td>\n",
       "      <td>25.73171</td>\n",
       "      <td>0.32286</td>\n",
       "      <td>0.48548</td>\n",
       "      <td>0.02528</td>\n",
       "      <td>0.00010</td>\n",
       "      <td>0.41617</td>\n",
       "      <td>1.00000</td>\n",
       "    </tr>\n",
       "    <tr>\n",
       "      <th>std</th>\n",
       "      <td>6.72114</td>\n",
       "      <td>83,039.65266</td>\n",
       "      <td>89,384.86674</td>\n",
       "      <td>0.00097</td>\n",
       "      <td>6.11206</td>\n",
       "      <td>14.83371</td>\n",
       "      <td>34.07420</td>\n",
       "      <td>1,259.34074</td>\n",
       "      <td>9.20447</td>\n",
       "      <td>10.64523</td>\n",
       "      <td>1.00563</td>\n",
       "      <td>0.00025</td>\n",
       "      <td>0.49293</td>\n",
       "      <td>0.00000</td>\n",
       "    </tr>\n",
       "    <tr>\n",
       "      <th>min</th>\n",
       "      <td>1.00000</td>\n",
       "      <td>0.00000</td>\n",
       "      <td>0.00000</td>\n",
       "      <td>0.00000</td>\n",
       "      <td>0.00000</td>\n",
       "      <td>0.00000</td>\n",
       "      <td>0.00000</td>\n",
       "      <td>0.00000</td>\n",
       "      <td>0.00000</td>\n",
       "      <td>0.00000</td>\n",
       "      <td>0.00000</td>\n",
       "      <td>0.00001</td>\n",
       "      <td>0.00000</td>\n",
       "      <td>1.00000</td>\n",
       "    </tr>\n",
       "    <tr>\n",
       "      <th>25%</th>\n",
       "      <td>8.00000</td>\n",
       "      <td>1.59500</td>\n",
       "      <td>0.00000</td>\n",
       "      <td>0.00000</td>\n",
       "      <td>0.00000</td>\n",
       "      <td>0.00000</td>\n",
       "      <td>0.00000</td>\n",
       "      <td>0.00000</td>\n",
       "      <td>0.00000</td>\n",
       "      <td>0.00000</td>\n",
       "      <td>0.00000</td>\n",
       "      <td>0.00004</td>\n",
       "      <td>0.00000</td>\n",
       "      <td>1.00000</td>\n",
       "    </tr>\n",
       "    <tr>\n",
       "      <th>50%</th>\n",
       "      <td>10.00000</td>\n",
       "      <td>5.32000</td>\n",
       "      <td>0.12216</td>\n",
       "      <td>0.00000</td>\n",
       "      <td>0.00000</td>\n",
       "      <td>0.00000</td>\n",
       "      <td>0.00000</td>\n",
       "      <td>1.00000</td>\n",
       "      <td>0.00000</td>\n",
       "      <td>0.00000</td>\n",
       "      <td>0.00000</td>\n",
       "      <td>0.00005</td>\n",
       "      <td>0.00000</td>\n",
       "      <td>1.00000</td>\n",
       "    </tr>\n",
       "    <tr>\n",
       "      <th>75%</th>\n",
       "      <td>15.00000</td>\n",
       "      <td>18.56000</td>\n",
       "      <td>4.49283</td>\n",
       "      <td>0.00000</td>\n",
       "      <td>0.00000</td>\n",
       "      <td>0.00000</td>\n",
       "      <td>2.00000</td>\n",
       "      <td>15.00000</td>\n",
       "      <td>0.00000</td>\n",
       "      <td>0.00000</td>\n",
       "      <td>0.00000</td>\n",
       "      <td>0.00011</td>\n",
       "      <td>1.00000</td>\n",
       "      <td>1.00000</td>\n",
       "    </tr>\n",
       "    <tr>\n",
       "      <th>max</th>\n",
       "      <td>53.00000</td>\n",
       "      <td>10,118,377.26000</td>\n",
       "      <td>10,536,043.56961</td>\n",
       "      <td>0.11434</td>\n",
       "      <td>479.00000</td>\n",
       "      <td>1,009.19125</td>\n",
       "      <td>5,275.00000</td>\n",
       "      <td>208,729.00000</td>\n",
       "      <td>1,029.00000</td>\n",
       "      <td>1,150.00000</td>\n",
       "      <td>58.00000</td>\n",
       "      <td>0.01644</td>\n",
       "      <td>1.00000</td>\n",
       "      <td>1.00000</td>\n",
       "    </tr>\n",
       "  </tbody>\n",
       "</table>\n",
       "</div>"
      ],
      "text/plain": [
       "             votes       avg_weight    num_delegated  percentage_delegated  \\\n",
       "count 27,575.00000     27,575.00000     27,575.00000          27,575.00000   \n",
       "mean      12.38995      2,341.77186      2,465.17558               0.00003   \n",
       "std        6.72114     83,039.65266     89,384.86674               0.00097   \n",
       "min        1.00000          0.00000          0.00000               0.00000   \n",
       "25%        8.00000          1.59500          0.00000               0.00000   \n",
       "50%       10.00000          5.32000          0.12216               0.00000   \n",
       "75%       15.00000         18.56000          4.49283               0.00000   \n",
       "max       53.00000 10,118,377.26000 10,536,043.56961               0.11434   \n",
       "\n",
       "       num_dao_votes  total_gitcoin_donations  dex_trades_l60d  \\\n",
       "count   27,575.00000             27,575.00000     27,575.00000   \n",
       "mean         0.76464                  1.53229          3.11267   \n",
       "std          6.11206                 14.83371         34.07420   \n",
       "min          0.00000                  0.00000          0.00000   \n",
       "25%          0.00000                  0.00000          0.00000   \n",
       "50%          0.00000                  0.00000          0.00000   \n",
       "75%          0.00000                  0.00000          2.00000   \n",
       "max        479.00000              1,009.19125      5,275.00000   \n",
       "\n",
       "       nft_mints_l60d  nfts_sold_l60d  nfts_bought_l60d  num_proposals  \\\n",
       "count    27,575.00000    27,575.00000      27,575.00000   27,575.00000   \n",
       "mean         25.73171         0.32286           0.48548        0.02528   \n",
       "std       1,259.34074         9.20447          10.64523        1.00563   \n",
       "min           0.00000         0.00000           0.00000        0.00000   \n",
       "25%           0.00000         0.00000           0.00000        0.00000   \n",
       "50%           1.00000         0.00000           0.00000        0.00000   \n",
       "75%          15.00000         0.00000           0.00000        0.00000   \n",
       "max     208,729.00000     1,029.00000       1,150.00000       58.00000   \n",
       "\n",
       "       voting_frequency_ratio          ENS  highly_engaged  \n",
       "count            27,575.00000 27,575.00000    27,575.00000  \n",
       "mean                  0.00010      0.41617         1.00000  \n",
       "std                   0.00025      0.49293         0.00000  \n",
       "min                   0.00001      0.00000         1.00000  \n",
       "25%                   0.00004      0.00000         1.00000  \n",
       "50%                   0.00005      0.00000         1.00000  \n",
       "75%                   0.00011      1.00000         1.00000  \n",
       "max                   0.01644      1.00000         1.00000  "
      ]
     },
     "execution_count": 170,
     "metadata": {},
     "output_type": "execute_result"
    }
   ],
   "source": [
    "combined_df[combined_df['highly_engaged']==1].describe()"
   ]
  },
  {
   "cell_type": "code",
   "execution_count": 172,
   "metadata": {},
   "outputs": [
    {
     "name": "stdout",
     "output_type": "stream",
     "text": [
      "              precision    recall  f1-score   support\n",
      "\n",
      "           0       0.85      0.78      0.81     13108\n",
      "           1       0.47      0.58      0.52      4410\n",
      "\n",
      "    accuracy                           0.73     17518\n",
      "   macro avg       0.66      0.68      0.66     17518\n",
      "weighted avg       0.75      0.73      0.74     17518\n",
      "\n",
      "ROC AUC Score: 0.7653\n"
     ]
    },
    {
     "name": "stderr",
     "output_type": "stream",
     "text": [
      "e:\\Projects\\steth_optimizer\\steth_optimizer\\Lib\\site-packages\\sklearn\\linear_model\\_logistic.py:469: ConvergenceWarning: lbfgs failed to converge (status=1):\n",
      "STOP: TOTAL NO. of ITERATIONS REACHED LIMIT.\n",
      "\n",
      "Increase the number of iterations (max_iter) or scale the data as shown in:\n",
      "    https://scikit-learn.org/stable/modules/preprocessing.html\n",
      "Please also refer to the documentation for alternative solver options:\n",
      "    https://scikit-learn.org/stable/modules/linear_model.html#logistic-regression\n",
      "  n_iter_i = _check_optimize_result(\n"
     ]
    }
   ],
   "source": [
    "from sklearn.metrics import classification_report, roc_auc_score\n",
    "\n",
    "# Split data\n",
    "X_train, X_test, y_train, y_test = train_test_split(X, y, test_size=0.2, random_state=42)\n",
    "\n",
    "# Initialize and fit the logistic regression model\n",
    "model.fit(X_train, y_train)\n",
    "\n",
    "# Predict on the test set\n",
    "y_pred = model.predict(X_test)\n",
    "y_pred_proba = model.predict_proba(X_test)[:, 1]  # Get probabilities for ROC AUC score\n",
    "\n",
    "# Evaluate the model\n",
    "print(classification_report(y_test, y_pred))\n",
    "print(f\"ROC AUC Score: {roc_auc_score(y_test, y_pred_proba):.4f}\")\n"
   ]
  },
  {
   "cell_type": "code",
   "execution_count": 173,
   "metadata": {},
   "outputs": [
    {
     "name": "stdout",
     "output_type": "stream",
     "text": [
      "                    Feature  Coefficient  Absolute Coefficient\n",
      "0                     votes      0.19199               0.19199\n",
      "11                      ENS     -0.16482               0.16482\n",
      "10            num_proposals      0.07776               0.07776\n",
      "4             num_dao_votes      0.01859               0.01859\n",
      "6           dex_trades_l60d      0.01435               0.01435\n",
      "9          nfts_bought_l60d      0.01090               0.01090\n",
      "8            nfts_sold_l60d      0.00839               0.00839\n",
      "5   total_gitcoin_donations     -0.00334               0.00334\n",
      "7            nft_mints_l60d     -0.00002               0.00002\n",
      "1                avg_weight      0.00001               0.00001\n",
      "2             num_delegated      0.00000               0.00000\n",
      "3      percentage_delegated     -0.00000               0.00000\n"
     ]
    }
   ],
   "source": [
    "import numpy as np\n",
    "import pandas as pd\n",
    "\n",
    "# Get the feature names\n",
    "feature_names = X_train.columns\n",
    "\n",
    "# Get the coefficients from the model\n",
    "coefficients = model.coef_[0]\n",
    "\n",
    "# Create a DataFrame to hold the feature names and their corresponding coefficients\n",
    "feature_importance_df = pd.DataFrame({\n",
    "    'Feature': feature_names,\n",
    "    'Coefficient': coefficients\n",
    "})\n",
    "\n",
    "# Sort by absolute value of coefficients to see the most important features\n",
    "feature_importance_df['Absolute Coefficient'] = np.abs(feature_importance_df['Coefficient'])\n",
    "feature_importance_df = feature_importance_df.sort_values(by='Absolute Coefficient', ascending=False)\n",
    "\n",
    "print(feature_importance_df)"
   ]
  },
  {
   "cell_type": "code",
   "execution_count": null,
   "metadata": {},
   "outputs": [],
   "source": []
  }
 ],
 "metadata": {
  "kernelspec": {
   "display_name": "steth_optimizer",
   "language": "python",
   "name": "steth_optimizer"
  },
  "language_info": {
   "codemirror_mode": {
    "name": "ipython",
    "version": 3
   },
   "file_extension": ".py",
   "mimetype": "text/x-python",
   "name": "python",
   "nbconvert_exporter": "python",
   "pygments_lexer": "ipython3",
   "version": "3.11.9"
  }
 },
 "nbformat": 4,
 "nbformat_minor": 2
}
